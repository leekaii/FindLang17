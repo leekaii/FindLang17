{
 "cells": [
  {
   "cell_type": "code",
   "execution_count": 13,
   "id": "987557c2",
   "metadata": {},
   "outputs": [],
   "source": [
    "import string\n",
    "import pandas as pd\n",
    "import numpy as np\n",
    "import re\n",
    "import matplotlib.pyplot as plt\n",
    "import seaborn as sns"
   ]
  },
  {
   "cell_type": "code",
   "execution_count": 14,
   "id": "ce8b767a",
   "metadata": {},
   "outputs": [
    {
     "data": {
      "text/html": [
       "<div>\n",
       "<style scoped>\n",
       "    .dataframe tbody tr th:only-of-type {\n",
       "        vertical-align: middle;\n",
       "    }\n",
       "\n",
       "    .dataframe tbody tr th {\n",
       "        vertical-align: top;\n",
       "    }\n",
       "\n",
       "    .dataframe thead th {\n",
       "        text-align: right;\n",
       "    }\n",
       "</style>\n",
       "<table border=\"1\" class=\"dataframe\">\n",
       "  <thead>\n",
       "    <tr style=\"text-align: right;\">\n",
       "      <th></th>\n",
       "      <th>Text</th>\n",
       "      <th>Language</th>\n",
       "    </tr>\n",
       "  </thead>\n",
       "  <tbody>\n",
       "    <tr>\n",
       "      <th>0</th>\n",
       "      <td>Nature, in the broadest sense, is the natural...</td>\n",
       "      <td>English</td>\n",
       "    </tr>\n",
       "    <tr>\n",
       "      <th>1</th>\n",
       "      <td>\"Nature\" can refer to the phenomena of the phy...</td>\n",
       "      <td>English</td>\n",
       "    </tr>\n",
       "    <tr>\n",
       "      <th>2</th>\n",
       "      <td>The study of nature is a large, if not the onl...</td>\n",
       "      <td>English</td>\n",
       "    </tr>\n",
       "    <tr>\n",
       "      <th>3</th>\n",
       "      <td>Although humans are part of nature, human acti...</td>\n",
       "      <td>English</td>\n",
       "    </tr>\n",
       "    <tr>\n",
       "      <th>4</th>\n",
       "      <td>[1] The word nature is borrowed from the Old F...</td>\n",
       "      <td>English</td>\n",
       "    </tr>\n",
       "  </tbody>\n",
       "</table>\n",
       "</div>"
      ],
      "text/plain": [
       "                                                Text Language\n",
       "0   Nature, in the broadest sense, is the natural...  English\n",
       "1  \"Nature\" can refer to the phenomena of the phy...  English\n",
       "2  The study of nature is a large, if not the onl...  English\n",
       "3  Although humans are part of nature, human acti...  English\n",
       "4  [1] The word nature is borrowed from the Old F...  English"
      ]
     },
     "execution_count": 14,
     "metadata": {},
     "output_type": "execute_result"
    }
   ],
   "source": [
    "df = pd.read_csv('Language Detection.csv')\n",
    "df.head()"
   ]
  },
  {
   "cell_type": "code",
   "execution_count": 6,
   "id": "0002f014",
   "metadata": {},
   "outputs": [],
   "source": [
    "def remove_pun(text):\n",
    "    for pun in string.punctuation:\n",
    "        text= text.replace(pun,\"\")\n",
    "    text = text.lower()\n",
    "    return(text)"
   ]
  },
  {
   "cell_type": "code",
   "execution_count": 19,
   "id": "fe2597dc",
   "metadata": {},
   "outputs": [],
   "source": [
    " df['Text'] = df['Text'].apply(remove_pun)"
   ]
  },
  {
   "cell_type": "code",
   "execution_count": 20,
   "id": "384a6c3b",
   "metadata": {},
   "outputs": [
    {
     "data": {
      "text/html": [
       "<div>\n",
       "<style scoped>\n",
       "    .dataframe tbody tr th:only-of-type {\n",
       "        vertical-align: middle;\n",
       "    }\n",
       "\n",
       "    .dataframe tbody tr th {\n",
       "        vertical-align: top;\n",
       "    }\n",
       "\n",
       "    .dataframe thead th {\n",
       "        text-align: right;\n",
       "    }\n",
       "</style>\n",
       "<table border=\"1\" class=\"dataframe\">\n",
       "  <thead>\n",
       "    <tr style=\"text-align: right;\">\n",
       "      <th></th>\n",
       "      <th>Text</th>\n",
       "      <th>Language</th>\n",
       "    </tr>\n",
       "  </thead>\n",
       "  <tbody>\n",
       "    <tr>\n",
       "      <th>0</th>\n",
       "      <td>nature in the broadest sense is the natural p...</td>\n",
       "      <td>English</td>\n",
       "    </tr>\n",
       "    <tr>\n",
       "      <th>1</th>\n",
       "      <td>nature can refer to the phenomena of the physi...</td>\n",
       "      <td>English</td>\n",
       "    </tr>\n",
       "    <tr>\n",
       "      <th>2</th>\n",
       "      <td>the study of nature is a large if not the only...</td>\n",
       "      <td>English</td>\n",
       "    </tr>\n",
       "    <tr>\n",
       "      <th>3</th>\n",
       "      <td>although humans are part of nature human activ...</td>\n",
       "      <td>English</td>\n",
       "    </tr>\n",
       "    <tr>\n",
       "      <th>4</th>\n",
       "      <td>1 the word nature is borrowed from the old fre...</td>\n",
       "      <td>English</td>\n",
       "    </tr>\n",
       "  </tbody>\n",
       "</table>\n",
       "</div>"
      ],
      "text/plain": [
       "                                                Text Language\n",
       "0   nature in the broadest sense is the natural p...  English\n",
       "1  nature can refer to the phenomena of the physi...  English\n",
       "2  the study of nature is a large if not the only...  English\n",
       "3  although humans are part of nature human activ...  English\n",
       "4  1 the word nature is borrowed from the old fre...  English"
      ]
     },
     "execution_count": 20,
     "metadata": {},
     "output_type": "execute_result"
    }
   ],
   "source": [
    "df.head()"
   ]
  },
  {
   "cell_type": "code",
   "execution_count": 5,
   "id": "143cd74d",
   "metadata": {},
   "outputs": [],
   "source": [
    "from sklearn.model_selection import train_test_split"
   ]
  },
  {
   "cell_type": "code",
   "execution_count": 15,
   "id": "356ad860",
   "metadata": {},
   "outputs": [],
   "source": [
    "X= df.iloc[:,0]\n",
    "Y= df.iloc[:,1]"
   ]
  },
  {
   "cell_type": "code",
   "execution_count": 16,
   "id": "20bd01e0",
   "metadata": {},
   "outputs": [],
   "source": [
    "X_train,X_test,Y_train,Y_test = train_test_split(X,Y,test_size = .2)"
   ]
  },
  {
   "cell_type": "code",
   "execution_count": 17,
   "id": "370f29b5",
   "metadata": {},
   "outputs": [
    {
     "data": {
      "text/plain": [
       "3430    Il l’a notamment utilisée comme opérateur cent...\n",
       "87               Water covers 71% of the Earth's surface.\n",
       "4178        ça vous dérangerait de me prêter de l'argent?\n",
       "9710    Sie können sagen, Sie sollten eine Extrameile ...\n",
       "8028            ciddiye alma, o kadar üzülme, kalbe alma.\n",
       "                              ...                        \n",
       "798     [19]:25 Machine learning (ML), reorganized as ...\n",
       "6214                   Последним на данный момент[когда?]\n",
       "1124    don't worry no worries, which means don't worr...\n",
       "3189             você pode esperar um momento, por favor?\n",
       "6489    Ты можешь прикрыть меня, как ты можешь работат...\n",
       "Name: Text, Length: 8269, dtype: object"
      ]
     },
     "execution_count": 17,
     "metadata": {},
     "output_type": "execute_result"
    }
   ],
   "source": [
    "X_train"
   ]
  },
  {
   "cell_type": "code",
   "execution_count": 18,
   "id": "d581f20a",
   "metadata": {},
   "outputs": [],
   "source": [
    "from sklearn import feature_extraction"
   ]
  },
  {
   "cell_type": "code",
   "execution_count": 19,
   "id": "34870684",
   "metadata": {},
   "outputs": [],
   "source": [
    "vec = feature_extraction.text.TfidfVectorizer(ngram_range=(1,2),analyzer='char')"
   ]
  },
  {
   "cell_type": "code",
   "execution_count": 34,
   "id": "b185eab5",
   "metadata": {},
   "outputs": [],
   "source": [
    "from sklearn import pipeline\n",
    "import sklearn\n",
    "from sklearn import linear_model"
   ]
  },
  {
   "cell_type": "code",
   "execution_count": 35,
   "id": "43c05ab3",
   "metadata": {},
   "outputs": [],
   "source": [
    "model_pipe =pipeline.Pipeline([('vec',vec),('clf',linear_model.LogisticRegression())])"
   ]
  },
  {
   "cell_type": "code",
   "execution_count": 36,
   "id": "6534b74f",
   "metadata": {},
   "outputs": [
    {
     "data": {
      "text/plain": [
       "Pipeline(steps=[('vec', TfidfVectorizer(analyzer='char', ngram_range=(1, 2))),\n",
       "                ('clf', LogisticRegression())])"
      ]
     },
     "execution_count": 36,
     "metadata": {},
     "output_type": "execute_result"
    }
   ],
   "source": [
    "model_pipe.fit(X_train,Y_train)"
   ]
  },
  {
   "cell_type": "code",
   "execution_count": 37,
   "id": "6990f302",
   "metadata": {},
   "outputs": [
    {
     "data": {
      "text/plain": [
       "array(['Arabic', 'Danish', 'Dutch', 'English', 'French', 'German',\n",
       "       'Greek', 'Hindi', 'Italian', 'Kannada', 'Malayalam', 'Portugeese',\n",
       "       'Russian', 'Spanish', 'Sweedish', 'Tamil', 'Turkish'], dtype=object)"
      ]
     },
     "execution_count": 37,
     "metadata": {},
     "output_type": "execute_result"
    }
   ],
   "source": [
    "model_pipe.classes_"
   ]
  },
  {
   "cell_type": "code",
   "execution_count": 39,
   "id": "1b30ce9c",
   "metadata": {},
   "outputs": [],
   "source": [
    "predict_val = model_pipe.predict(X_test)"
   ]
  },
  {
   "cell_type": "code",
   "execution_count": 40,
   "id": "5ac829d7",
   "metadata": {},
   "outputs": [],
   "source": [
    "from sklearn import metrics"
   ]
  },
  {
   "cell_type": "code",
   "execution_count": 45,
   "id": "ac654ad1",
   "metadata": {},
   "outputs": [
    {
     "data": {
      "text/plain": [
       "97.96905222437138"
      ]
     },
     "execution_count": 45,
     "metadata": {},
     "output_type": "execute_result"
    }
   ],
   "source": [
    "metrics.accuracy_score(Y_test,predict_val)*100"
   ]
  },
  {
   "cell_type": "code",
   "execution_count": 46,
   "id": "1893bf96",
   "metadata": {},
   "outputs": [
    {
     "data": {
      "text/plain": [
       "array([[115,   0,   0,   0,   0,   0,   0,   0,   0,   0,   0,   0,   0,\n",
       "          0,   0,   0,   0],\n",
       "       [  0,  79,   0,   1,   1,   0,   0,   0,   0,   0,   0,   0,   0,\n",
       "          0,   6,   0,   0],\n",
       "       [  0,   1, 118,   3,   1,   1,   0,   0,   0,   0,   0,   0,   0,\n",
       "          1,   0,   0,   0],\n",
       "       [  0,   1,   0, 265,   1,   0,   0,   0,   2,   0,   0,   0,   0,\n",
       "          1,   0,   0,   0],\n",
       "       [  0,   0,   0,   1, 197,   1,   0,   0,   0,   0,   0,   0,   0,\n",
       "          1,   0,   0,   0],\n",
       "       [  0,   0,   0,   1,   0,  88,   0,   0,   0,   0,   0,   0,   0,\n",
       "          0,   1,   0,   0],\n",
       "       [  0,   0,   0,   0,   0,   0,  77,   0,   0,   0,   0,   0,   0,\n",
       "          0,   0,   0,   0],\n",
       "       [  0,   0,   0,   0,   0,   0,   0,  18,   0,   0,   0,   0,   0,\n",
       "          0,   0,   0,   0],\n",
       "       [  0,   0,   1,   0,   0,   0,   0,   0, 132,   0,   0,   0,   0,\n",
       "          3,   0,   0,   0],\n",
       "       [  0,   0,   0,   0,   0,   0,   0,   0,   0,  68,   0,   0,   0,\n",
       "          0,   0,   0,   0],\n",
       "       [  0,   0,   0,   0,   0,   0,   0,   0,   0,   0, 121,   0,   0,\n",
       "          0,   0,   0,   0],\n",
       "       [  0,   0,   0,   0,   0,   0,   0,   0,   0,   0,   0, 142,   0,\n",
       "          4,   1,   0,   0],\n",
       "       [  1,   0,   0,   0,   0,   0,   0,   0,   0,   0,   0,   0, 126,\n",
       "          0,   0,   0,   0],\n",
       "       [  0,   0,   0,   0,   0,   0,   0,   0,   1,   0,   0,   1,   0,\n",
       "        156,   0,   0,   0],\n",
       "       [  0,   2,   0,   0,   0,   0,   0,   0,   2,   0,   0,   0,   0,\n",
       "          0, 139,   0,   0],\n",
       "       [  0,   0,   0,   0,   0,   0,   0,   0,   0,   0,   0,   0,   0,\n",
       "          0,   0,  92,   0],\n",
       "       [  0,   0,   0,   1,   0,   0,   0,   0,   0,   0,   0,   0,   0,\n",
       "          0,   0,   0,  93]], dtype=int64)"
      ]
     },
     "execution_count": 46,
     "metadata": {},
     "output_type": "execute_result"
    }
   ],
   "source": [
    "metrics.confusion_matrix(Y_test,predict_val)"
   ]
  },
  {
   "cell_type": "code",
   "execution_count": 48,
   "id": "0d88635c",
   "metadata": {},
   "outputs": [
    {
     "data": {
      "text/plain": [
       "array(['English'], dtype=object)"
      ]
     },
     "execution_count": 48,
     "metadata": {},
     "output_type": "execute_result"
    }
   ],
   "source": [
    "model_pipe.predict(['My name is Aleena'])"
   ]
  },
  {
   "cell_type": "code",
   "execution_count": 49,
   "id": "6dea2428",
   "metadata": {},
   "outputs": [
    {
     "data": {
      "text/plain": [
       "array(['Hindi'], dtype=object)"
      ]
     },
     "execution_count": 49,
     "metadata": {},
     "output_type": "execute_result"
    }
   ],
   "source": [
    "model_pipe.predict(['मेरा नाम अलीना है'])"
   ]
  },
  {
   "cell_type": "code",
   "execution_count": 50,
   "id": "3a64cdee",
   "metadata": {},
   "outputs": [],
   "source": [
    "import pickle"
   ]
  },
  {
   "cell_type": "code",
   "execution_count": 57,
   "id": "36e1af7b",
   "metadata": {},
   "outputs": [],
   "source": [
    "newfile = open('model.pckl','wb')\n",
    "pickle.dump(model_pipe,newfile)\n",
    "newfile.close()"
   ]
  },
  {
   "cell_type": "code",
   "execution_count": 55,
   "id": "8142e1d0",
   "metadata": {},
   "outputs": [],
   "source": [
    "import os"
   ]
  },
  {
   "cell_type": "code",
   "execution_count": 58,
   "id": "d349540c",
   "metadata": {},
   "outputs": [
    {
     "data": {
      "text/plain": [
       "['.android',\n",
       " '.cache',\n",
       " '.conda',\n",
       " '.condarc',\n",
       " '.config',\n",
       " '.continuum',\n",
       " '.idlerc',\n",
       " '.ipynb_checkpoints',\n",
       " '.ipython',\n",
       " '.jupyter',\n",
       " '.m2',\n",
       " '.matplotlib',\n",
       " '.node_repl_history',\n",
       " '.npmrc',\n",
       " '.VirtualBox',\n",
       " '.vscode',\n",
       " 'anaconda3',\n",
       " 'AppData',\n",
       " 'Application Data',\n",
       " 'Contacts',\n",
       " 'Cookies',\n",
       " 'Documents',\n",
       " 'Downloads',\n",
       " 'exp2.ipynb',\n",
       " 'exp3.ipynb',\n",
       " 'exp4.ipynb',\n",
       " 'exp6.ipynb',\n",
       " 'Favorites',\n",
       " 'IdeaProjects',\n",
       " 'IntelGraphicsProfiles',\n",
       " 'Language Detection.csv',\n",
       " 'Language_Detection.ipynb',\n",
       " 'Links',\n",
       " 'Local Settings',\n",
       " 'model.pckl',\n",
       " 'Music',\n",
       " 'My Documents',\n",
       " 'NetHood',\n",
       " 'NTUSER.DAT',\n",
       " 'ntuser.dat.LOG1',\n",
       " 'ntuser.dat.LOG2',\n",
       " 'NTUSER.DAT{06767dc1-59c6-11ed-95e4-8ab49598392b}.TM.blf',\n",
       " 'NTUSER.DAT{06767dc1-59c6-11ed-95e4-8ab49598392b}.TMContainer00000000000000000001.regtrans-ms',\n",
       " 'NTUSER.DAT{06767dc1-59c6-11ed-95e4-8ab49598392b}.TMContainer00000000000000000002.regtrans-ms',\n",
       " 'ntuser.ini',\n",
       " 'OneDrive',\n",
       " 'Oracle',\n",
       " 'PrintHood',\n",
       " 'Recent',\n",
       " 'Saved Games',\n",
       " 'Searches',\n",
       " 'SendTo',\n",
       " 'source',\n",
       " 'Start Menu',\n",
       " 'Templates',\n",
       " 'Videos',\n",
       " 'VirtualBox VMs']"
      ]
     },
     "execution_count": 58,
     "metadata": {},
     "output_type": "execute_result"
    }
   ],
   "source": [
    "os.listdir()"
   ]
  }
 ],
 "metadata": {
  "kernelspec": {
   "display_name": "Python 3 (ipykernel)",
   "language": "python",
   "name": "python3"
  },
  "language_info": {
   "codemirror_mode": {
    "name": "ipython",
    "version": 3
   },
   "file_extension": ".py",
   "mimetype": "text/x-python",
   "name": "python",
   "nbconvert_exporter": "python",
   "pygments_lexer": "ipython3",
   "version": "3.9.13"
  }
 },
 "nbformat": 4,
 "nbformat_minor": 5
}
